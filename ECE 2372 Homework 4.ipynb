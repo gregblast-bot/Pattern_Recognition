{
 "cells": [
  {
   "cell_type": "markdown",
   "id": "b3397358",
   "metadata": {},
   "source": [
    "<h1><font color=\"black\">ECE 2372: HW4</font></h1>"
   ]
  },
  {
   "cell_type": "markdown",
   "id": "a40a9369",
   "metadata": {},
   "source": [
    "<h2><font color=\"black\">Problem 1</font></h2>"
   ]
  },
  {
   "cell_type": "markdown",
   "id": "1e932567",
   "metadata": {},
   "source": [
    "<h2><font color=\"black\">For a fixed $\\mathcal{H}$, consider $X_1 \\subseteq X_2$ and show that $d_{VC}(X1) \\leq d_{VC}(X2)$</font></h2>"
   ]
  },
  {
   "cell_type": "markdown",
   "id": "9f92646f",
   "metadata": {},
   "source": [
    "<h2><font color=\"red\">By definition, $x_{1},...,x_{n} \\epsilon X2$ are shattered by $\\mathcal{H}$. Meaning, that we can label $x_{n}$ data points in $2^{n}$ distinct ways.</font></h2>"
   ]
  },
  {
   "cell_type": "markdown",
   "id": "71b4e809",
   "metadata": {},
   "source": [
    "<h2><font color=\"red\">Now consider, $x_{1},...,x_{m} \\epsilon X1$. Which are also shattered by $\\mathcal{H}$.</font></h2>"
   ]
  },
  {
   "cell_type": "markdown",
   "id": "fd2e95b4",
   "metadata": {},
   "source": [
    "<h2><font color=\"red\">By definition, a subset may have elements $x_{1},...,x_{m}$ where $m \\leq n$.</font></h2>"
   ]
  },
  {
   "cell_type": "markdown",
   "id": "08f600ed",
   "metadata": {},
   "source": [
    "<h2><font color=\"red\">Since we have $x_{n}$ points that are shattered by $\\mathcal{H}$, it follows that $\\mathcal{H}$ can shatter $x_{n-1}$ points.</font></h2>"
   ]
  },
  {
   "cell_type": "markdown",
   "id": "594a0c89",
   "metadata": {},
   "source": [
    "<h2><font color=\"red\">Hence, $\\mathcal{H}$ can shatter $x_{m}$ points.</font></h2>"
   ]
  },
  {
   "cell_type": "markdown",
   "id": "2f371e33",
   "metadata": {},
   "source": [
    "<h2><font color=\"red\">Now, let $l_{1},...,l_{n-1} \\epsilon \\{0,1\\}$ be any labeling of said points.</font></h2>"
   ]
  },
  {
   "cell_type": "markdown",
   "id": "ebdfe9f3",
   "metadata": {},
   "source": [
    "<h2><font color=\"red\">And, let $l_{m+1},...,l_{n} = 0$.</font></h2>"
   ]
  },
  {
   "cell_type": "markdown",
   "id": "647ae058",
   "metadata": {},
   "source": [
    "<h2><font color=\"red\">Since we can label $x_{n}$ data points in $2^{n}$ distinct ways for a fixed $\\mathcal{H}$. It follows that we can label any $x_{m}$ data points in $2^{m}$ distinct ways for the same $\\mathcal{H}$.</font></h2>"
   ]
  },
  {
   "cell_type": "markdown",
   "id": "8591e18a",
   "metadata": {},
   "source": [
    "<h2><font color=\"red\">Therefore, $d_{VC}(X1) \\leq d_{VC}(X2)$.</font></h2>"
   ]
  },
  {
   "cell_type": "markdown",
   "id": "6fac2670",
   "metadata": {},
   "source": [
    "<h2><font color=\"black\">Problem 2</font></h2>"
   ]
  },
  {
   "cell_type": "markdown",
   "id": "19420933",
   "metadata": {},
   "source": [
    "<h2><font color=\"black\">$\\mathcal{H}$ is obtained by evaluating some polynomial of degree d and comparing the result to a threshold.</font></h2>"
   ]
  },
  {
   "cell_type": "markdown",
   "id": "6b66e575",
   "metadata": {},
   "source": [
    "<h2><font color=\"black\">This is formulated as $\\mathcal{H} = \\{\\mathcal{h} : \\mathcal{h(x)} = sign(\\sum_{i=0}^{d} c_{i}x^{i})$ for some $c_{0},...,c_{d} \\epsilon \\mathbb{R}\\}$.</font></h2>"
   ]
  },
  {
   "cell_type": "markdown",
   "id": "9ef83fb6",
   "metadata": {},
   "source": [
    "<h2><font color=\"black\">Part (a)</font></h2>"
   ]
  },
  {
   "cell_type": "markdown",
   "id": "45b62890",
   "metadata": {},
   "source": [
    "<h2><font color=\"black\">Show that there are d+1 points which are shattered by $\\mathcal{H}$.</font></h2>"
   ]
  },
  {
   "cell_type": "markdown",
   "id": "755e25ce",
   "metadata": {},
   "source": [
    "<h2><font color=\"red\">Take data points $x^{0},...,x^{d+1}$ such that\n",
    "$X = \\begin{pmatrix}\n",
    "1 & 0 & 0 & ... & 0 \\\\\n",
    "1 & x & 0 & ... & 0 \\\\\n",
    "1 & 0 & x^{2} & ... & 0 \\\\\n",
    ".  & . & .  &  . & 0\\\\\n",
    "1 & 0 & ... & 0 & x^{d+1} \\\\\n",
    "\\end{pmatrix}$</font></h2>"
   ]
  },
  {
   "cell_type": "markdown",
   "id": "d88c538a",
   "metadata": {},
   "source": [
    "<h2><font color=\"red\"> =\n",
    "$\\begin{pmatrix}\n",
    "1 & 0 & 0 & ... & 0 \\\\\n",
    "1 & 1 & 0 & ... & 0 \\\\\n",
    "1 & 0 & 1 & ... & 0 \\\\\n",
    ".  & . & .  &  . & 0\\\\\n",
    "1 & 0 & ... & 0 & 1 \\\\\n",
    "\\end{pmatrix}$</font></h2>"
   ]
  },
  {
   "cell_type": "markdown",
   "id": "7fb45499",
   "metadata": {},
   "source": [
    "<h2><font color=\"red\">Note: We can tell that the square block lower triangular matrix X is invertible since the determinant is not zero. Generically, the determinant would be $x^{\\frac{(n+1)(n+2)}{2}}$ due to the product of determinants on the diagonal blocks and the exponent being the sum of an arithmetic series. For the case we use to show that there are d+1 points which are shattered by $\\mathcal{H}$, the determinant is 1 and $\\neq 0$.</font></h2>"
   ]
  },
  {
   "cell_type": "markdown",
   "id": "41d1fd09",
   "metadata": {},
   "source": [
    "<h2><font color=\"red\">Now, look at any set of labels given by\n",
    "$l = \\begin{pmatrix}\n",
    "l_{1} \\\\\n",
    "l_{2} \\\\\n",
    ". \\\\\n",
    ". \\\\\n",
    "l_{d+1} \\\\\n",
    "\\end{pmatrix}\n",
    "= \\begin{pmatrix}\n",
    "\\{-1, 1\\} \\\\\n",
    "\\{-1, 1\\} \\\\\n",
    ". \\\\\n",
    ". \\\\\n",
    "\\{-1, 1\\} \\\\\n",
    "\\end{pmatrix}$</font></h2>"
   ]
  },
  {
   "cell_type": "markdown",
   "id": "2e4ae7c2",
   "metadata": {},
   "source": [
    "<h2><font color=\"red\">And, find the vector of coefficients $\\mathcal{c}$ that satisfies the condition $sign(X\\mathcal{c}) = y$.</font></h2>"
   ]
  },
  {
   "cell_type": "markdown",
   "id": "2eb06cbe",
   "metadata": {},
   "source": [
    "<h2><font color=\"red\">Note: If we satisfy this condition for every label l, we shatter the set.</font></h2>"
   ]
  },
  {
   "cell_type": "markdown",
   "id": "0afebd4d",
   "metadata": {},
   "source": [
    "<h2><font color=\"red\">So, simplifying the previous condition we have $X\\mathcal{c} = y$.</font></h2>"
   ]
  },
  {
   "cell_type": "markdown",
   "id": "1ca440db",
   "metadata": {},
   "source": [
    "<h2><font color=\"red\">And, since X is invertible we have $\\mathcal{c} = X^{-1}y$.</font></h2>"
   ]
  },
  {
   "cell_type": "markdown",
   "id": "aac6d969",
   "metadata": {},
   "source": [
    "<h2><font color=\"red\">Thus, we have a solution that realizes any dichotomy.</font></h2>"
   ]
  },
  {
   "cell_type": "markdown",
   "id": "d69e96c8",
   "metadata": {},
   "source": [
    "<h2><font color=\"red\">Therefore, this $\\mathcal{H}$ shatters d+1 points.</font></h2>"
   ]
  },
  {
   "cell_type": "markdown",
   "id": "fa5d969e",
   "metadata": {},
   "source": [
    "<h2><font color=\"black\">Part (b)</font></h2>"
   ]
  },
  {
   "cell_type": "markdown",
   "id": "fb5ce262",
   "metadata": {},
   "source": [
    "<h2><font color=\"black\">Show that there are NO d+2 points which are shattered by $\\mathcal{H}$.</font></h2>"
   ]
  },
  {
   "cell_type": "markdown",
   "id": "8e409618",
   "metadata": {},
   "source": [
    "<h2><font color=\"red\">Firstly, since we can shatter d+1 data points $d_{VC} \\geq d+1$.</font></h2>"
   ]
  },
  {
   "cell_type": "markdown",
   "id": "f9cebc46",
   "metadata": {},
   "source": [
    "<h2><font color=\"red\">To show that there are NO d+2 points which are shattered by $\\mathcal{H}$, let's look at the data points $x_{1},...,x_{d+1},x_{d+2}$.</font></h2>"
   ]
  },
  {
   "cell_type": "markdown",
   "id": "d0e010b2",
   "metadata": {},
   "source": [
    "<h2><font color=\"red\">Since we have more vectors (d+2) than dimensions (d+1), this implies that the sample space X will be linearly dependent.</font></h2>"
   ]
  },
  {
   "cell_type": "markdown",
   "id": "ffe7f4fe",
   "metadata": {},
   "source": [
    "<h2><font color=\"red\">This is formulated as $x_{j} = \\sum_{i\\neq j} a_{i}x^{i}$. Meaning, that one of these vectors will be a linear combination of the other vectors in the sample space.</font></h2>"
   ]
  },
  {
   "cell_type": "markdown",
   "id": "093357cb",
   "metadata": {},
   "source": [
    "<h2><font color=\"red\">Note: $a_{i}$ is an unknown coefficient. With the stipulation that not all $a_{i}$'s are zero. This is dictated by the fact that the first column of our sample space is all ones due to $x^{0} = 1$.</font></h2>"
   ]
  },
  {
   "cell_type": "markdown",
   "id": "bdd84f17",
   "metadata": {},
   "source": [
    "<h2><font color=\"red\">Now, focusing on all $x_{i}$'s with non-zero $a_{i}$'s. We denote the label as $l_{i} = sign(a_{i})$ and dictate the dichotomy that $x_{j}$ is designated label $l_{j} = -1$</font></h2>"
   ]
  },
  {
   "cell_type": "markdown",
   "id": "35795846",
   "metadata": {},
   "source": [
    "<h2><font color=\"red\">Now, from the formula $x_{j} = \\sum_{i\\neq j} a_{i}x^{i}$ let's add our coefficient vector to express the polynomial behavior fully. This is formulated as $c_{j}x_{j} = \\sum_{i\\neq j} a_{i}c_{i}x^{i}$</font></h2>"
   ]
  },
  {
   "cell_type": "markdown",
   "id": "649dfd55",
   "metadata": {},
   "source": [
    "<h2><font color=\"red\">And, by definition the label is formulated as $l_{i} = sign(c_{i}x^{i}) = sign(a_{i})$.</font></h2>"
   ]
  },
  {
   "cell_type": "markdown",
   "id": "8c6202c3",
   "metadata": {},
   "source": [
    "<h2><font color=\"red\">Thus, $a_{i}c_{i}x^{i} \\gt 0$.</font></h2>"
   ]
  },
  {
   "cell_type": "markdown",
   "id": "825097e9",
   "metadata": {},
   "source": [
    "<h2><font color=\"red\">Which forces, $c_{j}x_{j} = \\sum_{i\\neq j} a_{i}c_{i}x^{i} \\gt 0$.</font></h2>"
   ]
  },
  {
   "cell_type": "markdown",
   "id": "52204335",
   "metadata": {},
   "source": [
    "<h2><font color=\"red\">Hence, $l_{i} = sign(c_{i}x^{i}) = 1$.</font></h2>"
   ]
  },
  {
   "cell_type": "markdown",
   "id": "198b0c29",
   "metadata": {},
   "source": [
    "<h2><font color=\"red\">Meaning, $l_{j} = -1$ is an impossible label for d+2 points. So, we cannot get all dichotomies and shatter any set of d+2 points.</font></h2>"
   ]
  },
  {
   "cell_type": "markdown",
   "id": "b179e9c6",
   "metadata": {},
   "source": [
    "<h2><font color=\"red\">Therefore, no d+2 points are shattered by this $\\mathcal{H}$.</font></h2>"
   ]
  },
  {
   "cell_type": "markdown",
   "id": "a6ccc156",
   "metadata": {},
   "source": [
    "<h2><font color=\"black\">Problem 3</font></h2>"
   ]
  },
  {
   "cell_type": "markdown",
   "id": "4f9bd4b3",
   "metadata": {},
   "source": [
    "<h2><font color=\"black\">Suppose that the VC Dimension of our $\\mathcal{H}$ is $d_{VC} = 3$.</font></h2>"
   ]
  },
  {
   "cell_type": "markdown",
   "id": "f545590c",
   "metadata": {},
   "source": [
    "<h2><font color=\"black\">Part (a)</font></h2>"
   ]
  },
  {
   "cell_type": "markdown",
   "id": "8913c7dd",
   "metadata": {},
   "source": [
    "<h2><font color=\"black\">Using the VC generalization bound, give an upper bound on $R(h^*)$ that holds with probability at least 0.95 when n = 100. Repeat for n = 1,000 and n = 10,000.</font></h2>"
   ]
  },
  {
   "cell_type": "markdown",
   "id": "b8c2e20a",
   "metadata": {},
   "source": [
    "<h2><font color=\"red\">Firstly, the VC generalization bound is given by $R(h^*) \\leq \\hat{R}(h^*) + \\sqrt{\\frac{8}{n}\\log{\\frac{4m_{\\mathcal{H}}(2n)}{\\sigma}}}$.</font></h2>"
   ]
  },
  {
   "cell_type": "markdown",
   "id": "3f09358f",
   "metadata": {},
   "source": [
    "<h2><font color=\"red\">Where, $m_{\\mathcal{H}} = (2n)^{d_{VC}}$ and where the confidence parameter $\\sigma = 1 - 0.95 = 0.05$.</font></h2>"
   ]
  },
  {
   "cell_type": "markdown",
   "id": "3461338a",
   "metadata": {},
   "source": [
    "<h2><font color=\"red\">For n = 100: $R(h^*) \\leq \\hat{R}(h^*) + \\sqrt{\\frac{8}{10^{2}}\\log{\\frac{4(2*10^{2})^{3}}{0.05}}} = \\hat{R}(h^*) + 1.36$.</font></h2>"
   ]
  },
  {
   "cell_type": "markdown",
   "id": "a2506a76",
   "metadata": {},
   "source": [
    "<h2><font color=\"red\">For n = 1000: $R(h^*) \\leq \\hat{R}(h^*) + \\sqrt{\\frac{8}{10^{3}}\\log{\\frac{4(2*10^{3})^{3}}{0.05}}} = \\hat{R}(h^*) + 0.49$.</font></h2>"
   ]
  },
  {
   "cell_type": "markdown",
   "id": "906d6197",
   "metadata": {},
   "source": [
    "<h2><font color=\"red\">For n = 10000: $R(h^*) \\leq \\hat{R}(h^*) + \\sqrt{\\frac{8}{10^{4}}\\log{\\frac{4(2*10^{4})^{3}}{0.05}}} = \\hat{R}(h^*) + 0.17$.</font></h2>"
   ]
  },
  {
   "cell_type": "markdown",
   "id": "ae152499",
   "metadata": {},
   "source": [
    "<h2><font color=\"red\">As we can see, as our number of training data points grows the bounds between the true risk (expected error) and the emprical risk (observed error) gets tighter.</font></h2>"
   ]
  },
  {
   "cell_type": "markdown",
   "id": "2088b6b7",
   "metadata": {},
   "source": [
    "<h2><font color=\"black\">Part (b)</font></h2>"
   ]
  },
  {
   "cell_type": "markdown",
   "id": "a6afc54f",
   "metadata": {},
   "source": [
    "<h2><font color=\"black\">How large does n need to be to obtain a bound of the form: ${R}(h^*) \\leq \\hat{R}(h^*) + 0.01$ that holds with probability at least 0.95? How does this compare to the rule of thumb (i.e. $n \\geq 10 d_{VC}$)?</font></h2>"
   ]
  },
  {
   "cell_type": "markdown",
   "id": "bb758e1b",
   "metadata": {},
   "source": [
    "<h2><font color=\"red\">To obtain a bound that holds for ${R}(h^*) \\leq \\hat{R}(h^*) + 0.01$, let's take advantage of the Hoeffding inequality like so... ${R}(h^*) \\leq \\hat{R}(h^*) + 2e^{-2\\sigma^{2}n}$. </font></h2>"
   ]
  },
  {
   "cell_type": "markdown",
   "id": "fafe2d2d",
   "metadata": {},
   "source": [
    "<h2><font color=\"red\">Again, since the probability is at least 0.95 the confidence parameter is given by $\\sigma = 1 - 0.95 = 0.05$.</font></h2>"
   ]
  },
  {
   "cell_type": "markdown",
   "id": "6f7c0f72",
   "metadata": {},
   "source": [
    "<h2><font color=\"red\">So, let's set equal $2e^{-2\\sigma^{2}n} = 0.01$ in order to find the appropriate n.</font></h2>"
   ]
  },
  {
   "cell_type": "markdown",
   "id": "15882efb",
   "metadata": {},
   "source": [
    "<h2><font color=\"red\">Finding, $n = \\frac{\\log{\\frac{0.01}{2}}}{-2\\sigma^{2}}$.</font></h2>"
   ]
  },
  {
   "cell_type": "markdown",
   "id": "8a336078",
   "metadata": {},
   "source": [
    "<h2><font color=\"red\">Now, plugging in the known values and solving for n yields... n = 1059.66.</font></h2>"
   ]
  },
  {
   "cell_type": "markdown",
   "id": "e8c77118",
   "metadata": {},
   "source": [
    "<h2><font color=\"red\">Therefore, n needs to be approximately equal to 1060 to obtain a bound of the form: ${R}(h^*) \\leq \\hat{R}(h^*) + 0.01$.</font></h2>"
   ]
  },
  {
   "cell_type": "markdown",
   "id": "b5ef7ff7",
   "metadata": {},
   "source": [
    "<h2><font color=\"red\">Finally, comparing $n \\approx 1060$ to the rule of thumb $n \\geq 10 d_{VC}$ for $d_{VC} = 3$. We can clearly see that $1060 \\geq 30$, confirming that this n satisfies the rule of thumb. Although, the value of n may be much larger than we want.</font></h2>"
   ]
  },
  {
   "cell_type": "markdown",
   "id": "fc65c193",
   "metadata": {},
   "source": [
    "<h2><font color=\"black\">Problem 4</font></h2>"
   ]
  },
  {
   "cell_type": "markdown",
   "id": "42830dbe",
   "metadata": {},
   "source": [
    "<h2><font color=\"black\">Considering the hypothesis set $\\mathcal{H} = \\{\\mathcal{h} : \\mathcal{h(x)} = (-1)^{\\alpha x_{i}}$ for some $\\alpha \\epsilon \\mathbb{R}\\}$.</font></h2>"
   ]
  },
  {
   "cell_type": "markdown",
   "id": "2c0ff10b",
   "metadata": {},
   "source": [
    "<h2><font color=\"black\">Show that this hypothesis set $\\mathcal{H}$ has an infinite VC dimension.</font></h2>"
   ]
  },
  {
   "cell_type": "markdown",
   "id": "e6946220",
   "metadata": {},
   "source": [
    "<h2><font color=\"red\">To show this we need to demonstrate that we can shatter any set of points for a given size. Such as, $x_{1},...,x_{n}$.</font></h2>"
   ]
  },
  {
   "cell_type": "markdown",
   "id": "9ed778e2",
   "metadata": {},
   "source": [
    "<h2><font color=\"red\">Now, considering $x_{i} = 10^{i}$ for $i = 1,...,n$.</font></h2>"
   ]
  },
  {
   "cell_type": "markdown",
   "id": "5cf33808",
   "metadata": {},
   "source": [
    "<h2><font color=\"red\">We choose, $\\alpha$ such that $x_{i} < \\alpha < x_{i+1}$. Meaning, for odd $\\alpha$ => $(-1)^{\\alpha x_{i}} < (-1)^{\\alpha x_{i+1}}$, and for even $\\alpha$ => $(-1)^{\\alpha x_{i}} > (-1)^{\\alpha x_{i+1}}$.</font></h2>"
   ]
  },
  {
   "cell_type": "markdown",
   "id": "e6c41af3",
   "metadata": {},
   "source": [
    "<h2><font color=\"red\">Furthermore, consider any set of labels given by\n",
    "$l = \\begin{pmatrix}\n",
    "l_{1} \\\\\n",
    "l_{2} \\\\\n",
    ". \\\\\n",
    ". \\\\\n",
    "l_{d+1} \\\\\n",
    "\\end{pmatrix}\n",
    "= \\begin{pmatrix}\n",
    "\\{-1, 1\\} \\\\\n",
    "\\{-1, 1\\} \\\\\n",
    ". \\\\\n",
    ". \\\\\n",
    "\\{-1, 1\\} \\\\\n",
    "\\end{pmatrix}$</font></h2>"
   ]
  },
  {
   "cell_type": "markdown",
   "id": "796fdea6",
   "metadata": {},
   "source": [
    "<h2><font color=\"red\">With the arbitray dichotomy described above, we get an alternating labeling for any given size.</font></h2>"
   ]
  },
  {
   "cell_type": "markdown",
   "id": "c965e1cb",
   "metadata": {},
   "source": [
    "<h2><font color=\"red\">Therefore, we can shatter this set of points for any given size n. Concluding that the hypothesis set $\\mathcal{H}$ has an infinite VC dimension.</font></h2>"
   ]
  }
 ],
 "metadata": {
  "kernelspec": {
   "display_name": "Python 3 (ipykernel)",
   "language": "python",
   "name": "python3"
  },
  "language_info": {
   "codemirror_mode": {
    "name": "ipython",
    "version": 3
   },
   "file_extension": ".py",
   "mimetype": "text/x-python",
   "name": "python",
   "nbconvert_exporter": "python",
   "pygments_lexer": "ipython3",
   "version": "3.9.13"
  }
 },
 "nbformat": 4,
 "nbformat_minor": 5
}
